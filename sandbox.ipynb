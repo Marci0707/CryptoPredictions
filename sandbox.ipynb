{
 "cells": [
  {
   "cell_type": "code",
   "execution_count": 49,
   "metadata": {
    "collapsed": true
   },
   "outputs": [],
   "source": [
    "import _preprocessing\n",
    "import importlib\n",
    "importlib.reload(_preprocessing)\n",
    "\n",
    "df = _preprocessing.CryptoCompareReader('btc','cryptoCompareData',drop_na_subset=['close']).read()"
   ]
  },
  {
   "cell_type": "code",
   "execution_count": 50,
   "outputs": [
    {
     "data": {
      "text/plain": "           time         high          low         open        close  \\\n0    2010-07-17      0.04951      0.04951      0.04951      0.04951   \n1    2010-07-18      0.08585      0.05941      0.04951      0.08584   \n2    2010-07-19      0.09307      0.07723      0.08584      0.08080   \n3    2010-07-20      0.08181      0.07426      0.08080      0.07474   \n4    2010-07-21      0.07921      0.06634      0.07474      0.07921   \n...         ...          ...          ...          ...          ...   \n4385 2022-07-19  23790.89000  21588.20000  22447.39000  23399.91000   \n4386 2022-07-20  24276.14000  22923.14000  23399.91000  23222.77000   \n4387 2022-07-21  23419.67000  22348.64000  23222.77000  23153.54000   \n4388 2022-07-22  23749.68000  22513.01000  23153.54000  22686.32000   \n4389 2022-07-23  22997.60000  21953.76000  22686.32000  22137.81000   \n\n      BTCTradedToUSD  USDTradedToBTC  zero_balance_addresses_all_time  \\\n0              20.00    9.902000e-01                          34727.0   \n1              75.01    5.092000e+00                          35257.0   \n2             574.00    4.966000e+01                          35744.0   \n3             262.00    2.059000e+01                          36257.0   \n4             575.00    4.226000e+01                          36679.0   \n...              ...             ...                              ...   \n4385        79216.86    1.796379e+09                      979539755.0   \n4386        74279.35    1.752952e+09                      979905692.0   \n4387        52462.17    1.201005e+09                      980324206.0   \n4388        42569.62    9.876927e+08                      980637372.0   \n4389        21161.58    4.744645e+08                              NaN   \n\n      unique_addresses_all_time  new_addresses  ...  twitter_favourites  \\\n0                  8.697900e+04          447.0  ...                 NaN   \n1                  8.744600e+04          467.0  ...                 NaN   \n2                  8.805100e+04          605.0  ...                 NaN   \n3                  8.872500e+04          674.0  ...                 NaN   \n4                  8.919400e+04          469.0  ...                 NaN   \n...                         ...            ...  ...                 ...   \n4385               1.021336e+09       420955.0  ...              1000.0   \n4386               1.021727e+09       390520.0  ...              1000.0   \n4387               1.022140e+09       413531.0  ...              1000.0   \n4388               1.022533e+09       392709.0  ...              1000.0   \n4389                        NaN            NaN  ...              1000.0   \n\n      twitter_statuses  reddit_subscribers  reddit_active_users  \\\n0                  NaN                 NaN                  NaN   \n1                  NaN                 NaN                  NaN   \n2                  NaN                 NaN                  NaN   \n3                  NaN                 NaN                  NaN   \n4                  NaN                 NaN                  NaN   \n...                ...                 ...                  ...   \n4385           20316.0           4408599.0              11452.0   \n4386           20316.0           4412401.0              13184.0   \n4387           20316.0           4416151.0              11398.0   \n4388           20316.0           4419182.0              12769.0   \n4389           20316.0           4421541.0              10268.0   \n\n      reddit_posts_per_hour  reddit_posts_per_day  reddit_comments_per_hour  \\\n0                       NaN                   NaN                       NaN   \n1                       NaN                   NaN                       NaN   \n2                       NaN                   NaN                       NaN   \n3                       NaN                   NaN                       NaN   \n4                       NaN                   NaN                       NaN   \n...                     ...                   ...                       ...   \n4385                   3.28                 78.83                    286.85   \n4386                   4.19                100.61                    226.56   \n4387                   3.79                 90.98                    165.59   \n4388                   2.79                 66.91                    139.86   \n4389                   2.12                 50.81                    257.88   \n\n      reddit_comments_per_day  dayOfTheWeek  monthOfTheYear  \n0                         NaN             5               7  \n1                         NaN             6               7  \n2                         NaN             0               7  \n3                         NaN             1               7  \n4                         NaN             2               7  \n...                       ...           ...             ...  \n4385                  6884.46             1               7  \n4386                  5437.38             2               7  \n4387                  3974.24             3               7  \n4388                  3356.64             4               7  \n4389                  6189.11             5               7  \n\n[4390 rows x 39 columns]",
      "text/html": "<div>\n<style scoped>\n    .dataframe tbody tr th:only-of-type {\n        vertical-align: middle;\n    }\n\n    .dataframe tbody tr th {\n        vertical-align: top;\n    }\n\n    .dataframe thead th {\n        text-align: right;\n    }\n</style>\n<table border=\"1\" class=\"dataframe\">\n  <thead>\n    <tr style=\"text-align: right;\">\n      <th></th>\n      <th>time</th>\n      <th>high</th>\n      <th>low</th>\n      <th>open</th>\n      <th>close</th>\n      <th>BTCTradedToUSD</th>\n      <th>USDTradedToBTC</th>\n      <th>zero_balance_addresses_all_time</th>\n      <th>unique_addresses_all_time</th>\n      <th>new_addresses</th>\n      <th>...</th>\n      <th>twitter_favourites</th>\n      <th>twitter_statuses</th>\n      <th>reddit_subscribers</th>\n      <th>reddit_active_users</th>\n      <th>reddit_posts_per_hour</th>\n      <th>reddit_posts_per_day</th>\n      <th>reddit_comments_per_hour</th>\n      <th>reddit_comments_per_day</th>\n      <th>dayOfTheWeek</th>\n      <th>monthOfTheYear</th>\n    </tr>\n  </thead>\n  <tbody>\n    <tr>\n      <th>0</th>\n      <td>2010-07-17</td>\n      <td>0.04951</td>\n      <td>0.04951</td>\n      <td>0.04951</td>\n      <td>0.04951</td>\n      <td>20.00</td>\n      <td>9.902000e-01</td>\n      <td>34727.0</td>\n      <td>8.697900e+04</td>\n      <td>447.0</td>\n      <td>...</td>\n      <td>NaN</td>\n      <td>NaN</td>\n      <td>NaN</td>\n      <td>NaN</td>\n      <td>NaN</td>\n      <td>NaN</td>\n      <td>NaN</td>\n      <td>NaN</td>\n      <td>5</td>\n      <td>7</td>\n    </tr>\n    <tr>\n      <th>1</th>\n      <td>2010-07-18</td>\n      <td>0.08585</td>\n      <td>0.05941</td>\n      <td>0.04951</td>\n      <td>0.08584</td>\n      <td>75.01</td>\n      <td>5.092000e+00</td>\n      <td>35257.0</td>\n      <td>8.744600e+04</td>\n      <td>467.0</td>\n      <td>...</td>\n      <td>NaN</td>\n      <td>NaN</td>\n      <td>NaN</td>\n      <td>NaN</td>\n      <td>NaN</td>\n      <td>NaN</td>\n      <td>NaN</td>\n      <td>NaN</td>\n      <td>6</td>\n      <td>7</td>\n    </tr>\n    <tr>\n      <th>2</th>\n      <td>2010-07-19</td>\n      <td>0.09307</td>\n      <td>0.07723</td>\n      <td>0.08584</td>\n      <td>0.08080</td>\n      <td>574.00</td>\n      <td>4.966000e+01</td>\n      <td>35744.0</td>\n      <td>8.805100e+04</td>\n      <td>605.0</td>\n      <td>...</td>\n      <td>NaN</td>\n      <td>NaN</td>\n      <td>NaN</td>\n      <td>NaN</td>\n      <td>NaN</td>\n      <td>NaN</td>\n      <td>NaN</td>\n      <td>NaN</td>\n      <td>0</td>\n      <td>7</td>\n    </tr>\n    <tr>\n      <th>3</th>\n      <td>2010-07-20</td>\n      <td>0.08181</td>\n      <td>0.07426</td>\n      <td>0.08080</td>\n      <td>0.07474</td>\n      <td>262.00</td>\n      <td>2.059000e+01</td>\n      <td>36257.0</td>\n      <td>8.872500e+04</td>\n      <td>674.0</td>\n      <td>...</td>\n      <td>NaN</td>\n      <td>NaN</td>\n      <td>NaN</td>\n      <td>NaN</td>\n      <td>NaN</td>\n      <td>NaN</td>\n      <td>NaN</td>\n      <td>NaN</td>\n      <td>1</td>\n      <td>7</td>\n    </tr>\n    <tr>\n      <th>4</th>\n      <td>2010-07-21</td>\n      <td>0.07921</td>\n      <td>0.06634</td>\n      <td>0.07474</td>\n      <td>0.07921</td>\n      <td>575.00</td>\n      <td>4.226000e+01</td>\n      <td>36679.0</td>\n      <td>8.919400e+04</td>\n      <td>469.0</td>\n      <td>...</td>\n      <td>NaN</td>\n      <td>NaN</td>\n      <td>NaN</td>\n      <td>NaN</td>\n      <td>NaN</td>\n      <td>NaN</td>\n      <td>NaN</td>\n      <td>NaN</td>\n      <td>2</td>\n      <td>7</td>\n    </tr>\n    <tr>\n      <th>...</th>\n      <td>...</td>\n      <td>...</td>\n      <td>...</td>\n      <td>...</td>\n      <td>...</td>\n      <td>...</td>\n      <td>...</td>\n      <td>...</td>\n      <td>...</td>\n      <td>...</td>\n      <td>...</td>\n      <td>...</td>\n      <td>...</td>\n      <td>...</td>\n      <td>...</td>\n      <td>...</td>\n      <td>...</td>\n      <td>...</td>\n      <td>...</td>\n      <td>...</td>\n      <td>...</td>\n    </tr>\n    <tr>\n      <th>4385</th>\n      <td>2022-07-19</td>\n      <td>23790.89000</td>\n      <td>21588.20000</td>\n      <td>22447.39000</td>\n      <td>23399.91000</td>\n      <td>79216.86</td>\n      <td>1.796379e+09</td>\n      <td>979539755.0</td>\n      <td>1.021336e+09</td>\n      <td>420955.0</td>\n      <td>...</td>\n      <td>1000.0</td>\n      <td>20316.0</td>\n      <td>4408599.0</td>\n      <td>11452.0</td>\n      <td>3.28</td>\n      <td>78.83</td>\n      <td>286.85</td>\n      <td>6884.46</td>\n      <td>1</td>\n      <td>7</td>\n    </tr>\n    <tr>\n      <th>4386</th>\n      <td>2022-07-20</td>\n      <td>24276.14000</td>\n      <td>22923.14000</td>\n      <td>23399.91000</td>\n      <td>23222.77000</td>\n      <td>74279.35</td>\n      <td>1.752952e+09</td>\n      <td>979905692.0</td>\n      <td>1.021727e+09</td>\n      <td>390520.0</td>\n      <td>...</td>\n      <td>1000.0</td>\n      <td>20316.0</td>\n      <td>4412401.0</td>\n      <td>13184.0</td>\n      <td>4.19</td>\n      <td>100.61</td>\n      <td>226.56</td>\n      <td>5437.38</td>\n      <td>2</td>\n      <td>7</td>\n    </tr>\n    <tr>\n      <th>4387</th>\n      <td>2022-07-21</td>\n      <td>23419.67000</td>\n      <td>22348.64000</td>\n      <td>23222.77000</td>\n      <td>23153.54000</td>\n      <td>52462.17</td>\n      <td>1.201005e+09</td>\n      <td>980324206.0</td>\n      <td>1.022140e+09</td>\n      <td>413531.0</td>\n      <td>...</td>\n      <td>1000.0</td>\n      <td>20316.0</td>\n      <td>4416151.0</td>\n      <td>11398.0</td>\n      <td>3.79</td>\n      <td>90.98</td>\n      <td>165.59</td>\n      <td>3974.24</td>\n      <td>3</td>\n      <td>7</td>\n    </tr>\n    <tr>\n      <th>4388</th>\n      <td>2022-07-22</td>\n      <td>23749.68000</td>\n      <td>22513.01000</td>\n      <td>23153.54000</td>\n      <td>22686.32000</td>\n      <td>42569.62</td>\n      <td>9.876927e+08</td>\n      <td>980637372.0</td>\n      <td>1.022533e+09</td>\n      <td>392709.0</td>\n      <td>...</td>\n      <td>1000.0</td>\n      <td>20316.0</td>\n      <td>4419182.0</td>\n      <td>12769.0</td>\n      <td>2.79</td>\n      <td>66.91</td>\n      <td>139.86</td>\n      <td>3356.64</td>\n      <td>4</td>\n      <td>7</td>\n    </tr>\n    <tr>\n      <th>4389</th>\n      <td>2022-07-23</td>\n      <td>22997.60000</td>\n      <td>21953.76000</td>\n      <td>22686.32000</td>\n      <td>22137.81000</td>\n      <td>21161.58</td>\n      <td>4.744645e+08</td>\n      <td>NaN</td>\n      <td>NaN</td>\n      <td>NaN</td>\n      <td>...</td>\n      <td>1000.0</td>\n      <td>20316.0</td>\n      <td>4421541.0</td>\n      <td>10268.0</td>\n      <td>2.12</td>\n      <td>50.81</td>\n      <td>257.88</td>\n      <td>6189.11</td>\n      <td>5</td>\n      <td>7</td>\n    </tr>\n  </tbody>\n</table>\n<p>4390 rows × 39 columns</p>\n</div>"
     },
     "execution_count": 50,
     "metadata": {},
     "output_type": "execute_result"
    }
   ],
   "source": [
    "df"
   ],
   "metadata": {
    "collapsed": false,
    "pycharm": {
     "name": "#%%\n"
    }
   }
  },
  {
   "cell_type": "code",
   "execution_count": 112,
   "outputs": [
    {
     "name": "stderr",
     "output_type": "stream",
     "text": [
      "D:\\Egyetem\\7.Semester\\CryptoPredictions\\_preprocessing.py:67: FutureWarning: `rcond` parameter will change to the default of machine precision times ``max(M, N)`` where M and N are the input matrix dimensions.\n",
      "To use the future default and silence this warning we advise to pass `rcond=None`, to keep using the old, explicitly pass `rcond=-1`.\n",
      "  slope, _, _, _ = np.linalg.lstsq(x, shifted)\n"
     ]
    },
    {
     "data": {
      "text/plain": "             high  LinearCoeffTarget\n0         0.04951           0.011305\n1         0.08585          -0.001231\n2         0.09307          -0.005812\n3         0.08181          -0.004194\n4         0.07921          -0.005083\n...           ...                ...\n4385  23790.89000        -118.466000\n4386  24276.14000                NaN\n4387  23419.67000                NaN\n4388  23749.68000                NaN\n4389  22997.60000                NaN\n\n[4390 rows x 2 columns]",
      "text/html": "<div>\n<style scoped>\n    .dataframe tbody tr th:only-of-type {\n        vertical-align: middle;\n    }\n\n    .dataframe tbody tr th {\n        vertical-align: top;\n    }\n\n    .dataframe thead th {\n        text-align: right;\n    }\n</style>\n<table border=\"1\" class=\"dataframe\">\n  <thead>\n    <tr style=\"text-align: right;\">\n      <th></th>\n      <th>high</th>\n      <th>LinearCoeffTarget</th>\n    </tr>\n  </thead>\n  <tbody>\n    <tr>\n      <th>0</th>\n      <td>0.04951</td>\n      <td>0.011305</td>\n    </tr>\n    <tr>\n      <th>1</th>\n      <td>0.08585</td>\n      <td>-0.001231</td>\n    </tr>\n    <tr>\n      <th>2</th>\n      <td>0.09307</td>\n      <td>-0.005812</td>\n    </tr>\n    <tr>\n      <th>3</th>\n      <td>0.08181</td>\n      <td>-0.004194</td>\n    </tr>\n    <tr>\n      <th>4</th>\n      <td>0.07921</td>\n      <td>-0.005083</td>\n    </tr>\n    <tr>\n      <th>...</th>\n      <td>...</td>\n      <td>...</td>\n    </tr>\n    <tr>\n      <th>4385</th>\n      <td>23790.89000</td>\n      <td>-118.466000</td>\n    </tr>\n    <tr>\n      <th>4386</th>\n      <td>24276.14000</td>\n      <td>NaN</td>\n    </tr>\n    <tr>\n      <th>4387</th>\n      <td>23419.67000</td>\n      <td>NaN</td>\n    </tr>\n    <tr>\n      <th>4388</th>\n      <td>23749.68000</td>\n      <td>NaN</td>\n    </tr>\n    <tr>\n      <th>4389</th>\n      <td>22997.60000</td>\n      <td>NaN</td>\n    </tr>\n  </tbody>\n</table>\n<p>4390 rows × 2 columns</p>\n</div>"
     },
     "execution_count": 112,
     "metadata": {},
     "output_type": "execute_result"
    }
   ],
   "source": [
    "import _preprocessing\n",
    "import importlib\n",
    "importlib.reload(_preprocessing)\n",
    "\n",
    "lc = _preprocessing.LinearCoefficientTargetGenerator('high',window_size=5,regression_for_days_ahead=10)\n",
    "lc.fit_transform(df)[['high','LinearCoeffTarget']]"
   ],
   "metadata": {
    "collapsed": false,
    "pycharm": {
     "name": "#%%\n"
    }
   }
  },
  {
   "cell_type": "code",
   "execution_count": 105,
   "outputs": [
    {
     "data": {
      "text/plain": "4390"
     },
     "execution_count": 105,
     "metadata": {},
     "output_type": "execute_result"
    }
   ],
   "source": [
    "len(df)"
   ],
   "metadata": {
    "collapsed": false,
    "pycharm": {
     "name": "#%%\n"
    }
   }
  },
  {
   "cell_type": "code",
   "execution_count": 118,
   "outputs": [
    {
     "data": {
      "text/plain": "[<matplotlib.lines.Line2D at 0x2d0e4a7b3a0>]"
     },
     "execution_count": 118,
     "metadata": {},
     "output_type": "execute_result"
    },
    {
     "data": {
      "text/plain": "<Figure size 432x288 with 1 Axes>",
      "image/png": "[encoded data removed]"
     },
     "metadata": {
      "needs_background": "light"
     },
     "output_type": "display_data"
    }
   ],
   "source": [
    "import numpy as np\n",
    "import matplotlib.pyplot as plt\n",
    "fig,axes = plt.subplots(1,1)\n",
    "df['high'][:15].plot(axes=axes)\n",
    "axes.plot(list(range(0,10)),[x*0.011305+df['high'].iloc[0] for x in range(10)])\n",
    "# axes.plot()"
   ],
   "metadata": {
    "collapsed": false,
    "pycharm": {
     "name": "#%%\n"
    }
   }
  },
  {
   "cell_type": "code",
   "execution_count": null,
   "outputs": [],
   "source": [
    "arr2 = [0.,0.03634 ,0.04356, 0.0323,  0.0297 , 0.0323,  0.01816, 0.0121 , 0.0099,0.00649]\n",
    "plt.plot(list(range(len(arr2))),arr2)"
   ],
   "metadata": {
    "collapsed": false,
    "pycharm": {
     "name": "#%%\n"
    }
   }
  },
  {
   "cell_type": "code",
   "execution_count": 61,
   "outputs": [
    {
     "data": {
      "text/plain": "array([0., 1.])"
     },
     "execution_count": 61,
     "metadata": {},
     "output_type": "execute_result"
    }
   ],
   "source": [
    "P.polyfit(list(range(10)), list(range(10)),1)"
   ],
   "metadata": {
    "collapsed": false,
    "pycharm": {
     "name": "#%%\n"
    }
   }
  },
  {
   "cell_type": "code",
   "execution_count": 62,
   "outputs": [
    {
     "data": {
      "text/plain": "array([1.00000000e+00, 2.24693342e-15])"
     },
     "execution_count": 62,
     "metadata": {},
     "output_type": "execute_result"
    }
   ],
   "source": [
    "import numpy\n",
    "\n",
    "numpy.polyfit(list(range(10)), list(range(10)),1)"
   ],
   "metadata": {
    "collapsed": false,
    "pycharm": {
     "name": "#%%\n"
    }
   }
  },
  {
   "cell_type": "code",
   "execution_count": null,
   "outputs": [],
   "source": [],
   "metadata": {
    "collapsed": false,
    "pycharm": {
     "name": "#%%\n"
    }
   }
  }
 ],
 "metadata": {
  "kernelspec": {
   "display_name": "Python 3",
   "language": "python",
   "name": "python3"
  },
  "language_info": {
   "codemirror_mode": {
    "name": "ipython",
    "version": 2
   },
   "file_extension": ".py",
   "mimetype": "text/x-python",
   "name": "python",
   "nbconvert_exporter": "python",
   "pygments_lexer": "ipython2",
   "version": "2.7.6"
  }
 },
 "nbformat": 4,
 "nbformat_minor": 0
}