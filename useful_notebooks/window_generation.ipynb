{
 "cells": [
  {
   "cell_type": "code",
   "execution_count": 21,
   "metadata": {
    "collapsed": true
   },
   "outputs": [
    {
     "data": {
      "text/plain": "   valid_target  feature1 feature2  helper_feature  target\n0             1         1        a           False    0.30\n1             1         2        b           False    0.20\n2             1         3        a           False    0.10\n3             1         4        b           False    0.30\n4             1         5        a           False    0.24\n5             1         6        b           False    0.24\n6             1         7        a            True    0.23\n7            -1         8        b            True    0.23\n8            -1         9        a            True    0.72\n9             1        10        b            True    0.98",
      "text/html": "<div>\n<style scoped>\n    .dataframe tbody tr th:only-of-type {\n        vertical-align: middle;\n    }\n\n    .dataframe tbody tr th {\n        vertical-align: top;\n    }\n\n    .dataframe thead th {\n        text-align: right;\n    }\n</style>\n<table border=\"1\" class=\"dataframe\">\n  <thead>\n    <tr style=\"text-align: right;\">\n      <th></th>\n      <th>valid_target</th>\n      <th>feature1</th>\n      <th>feature2</th>\n      <th>helper_feature</th>\n      <th>target</th>\n    </tr>\n  </thead>\n  <tbody>\n    <tr>\n      <th>0</th>\n      <td>1</td>\n      <td>1</td>\n      <td>a</td>\n      <td>False</td>\n      <td>0.30</td>\n    </tr>\n    <tr>\n      <th>1</th>\n      <td>1</td>\n      <td>2</td>\n      <td>b</td>\n      <td>False</td>\n      <td>0.20</td>\n    </tr>\n    <tr>\n      <th>2</th>\n      <td>1</td>\n      <td>3</td>\n      <td>a</td>\n      <td>False</td>\n      <td>0.10</td>\n    </tr>\n    <tr>\n      <th>3</th>\n      <td>1</td>\n      <td>4</td>\n      <td>b</td>\n      <td>False</td>\n      <td>0.30</td>\n    </tr>\n    <tr>\n      <th>4</th>\n      <td>1</td>\n      <td>5</td>\n      <td>a</td>\n      <td>False</td>\n      <td>0.24</td>\n    </tr>\n    <tr>\n      <th>5</th>\n      <td>1</td>\n      <td>6</td>\n      <td>b</td>\n      <td>False</td>\n      <td>0.24</td>\n    </tr>\n    <tr>\n      <th>6</th>\n      <td>1</td>\n      <td>7</td>\n      <td>a</td>\n      <td>True</td>\n      <td>0.23</td>\n    </tr>\n    <tr>\n      <th>7</th>\n      <td>-1</td>\n      <td>8</td>\n      <td>b</td>\n      <td>True</td>\n      <td>0.23</td>\n    </tr>\n    <tr>\n      <th>8</th>\n      <td>-1</td>\n      <td>9</td>\n      <td>a</td>\n      <td>True</td>\n      <td>0.72</td>\n    </tr>\n    <tr>\n      <th>9</th>\n      <td>1</td>\n      <td>10</td>\n      <td>b</td>\n      <td>True</td>\n      <td>0.98</td>\n    </tr>\n  </tbody>\n</table>\n</div>"
     },
     "execution_count": 21,
     "metadata": {},
     "output_type": "execute_result"
    }
   ],
   "source": [
    "import pandas as pd\n",
    "dummy_df = pd.DataFrame({\n",
    "    'valid_target' : [1,1,1,1,1,1,1,-1,-1,1],\n",
    "    'feature1' : [1,2,3,4,5,6,7,8,9,10],\n",
    "    'feature2' : ['a','b','a','b','a','b','a','b','a','b'],\n",
    "    'helper_feature' : [False] * 6 + [True] * 4,\n",
    "    'target' : [0.3,0.2,0.1,0.3,0.24,0.24,0.23,0.23,0.72, 0.98]\n",
    "})\n",
    "dummy_df"
   ]
  },
  {
   "cell_type": "code",
   "execution_count": 25,
   "outputs": [
    {
     "data": {
      "text/plain": "array([[[1, 'a'],\n        [2, 'b'],\n        [3, 'a']],\n\n       [[2, 'b'],\n        [3, 'a'],\n        [4, 'b']],\n\n       [[3, 'a'],\n        [4, 'b'],\n        [5, 'a']],\n\n       [[4, 'b'],\n        [5, 'a'],\n        [6, 'b']],\n\n       [[7, 'a'],\n        [8, 'b'],\n        [9, 'a']]], dtype=object)"
     },
     "execution_count": 25,
     "metadata": {},
     "output_type": "execute_result"
    }
   ],
   "source": [
    "import _preprocessing\n",
    "import importlib\n",
    "importlib.reload(_preprocessing)\n",
    "generator = _preprocessing.WindowsGenerator(window_size=3,features=['feature1','feature2'],targets=['target'],is_valid_target_col_name='valid_target')\n",
    "x,y = generator.fit_transform(dummy_df)\n",
    "x"
   ],
   "metadata": {
    "collapsed": false,
    "pycharm": {
     "name": "#%%\n"
    }
   }
  },
  {
   "cell_type": "code",
   "execution_count": 24,
   "outputs": [
    {
     "data": {
      "text/plain": "array([[0.23],\n       [0.72]], dtype=object)"
     },
     "execution_count": 24,
     "metadata": {},
     "output_type": "execute_result"
    }
   ],
   "source": [
    "y"
   ],
   "metadata": {
    "collapsed": false,
    "pycharm": {
     "name": "#%%\n"
    }
   }
  },
  {
   "cell_type": "code",
   "execution_count": null,
   "outputs": [],
   "source": [],
   "metadata": {
    "collapsed": false,
    "pycharm": {
     "name": "#%%\n"
    }
   }
  }
 ],
 "metadata": {
  "kernelspec": {
   "display_name": "Python 3",
   "language": "python",
   "name": "python3"
  },
  "language_info": {
   "codemirror_mode": {
    "name": "ipython",
    "version": 2
   },
   "file_extension": ".py",
   "mimetype": "text/x-python",
   "name": "python",
   "nbconvert_exporter": "python",
   "pygments_lexer": "ipython2",
   "version": "2.7.6"
  }
 },
 "nbformat": 4,
 "nbformat_minor": 0
}