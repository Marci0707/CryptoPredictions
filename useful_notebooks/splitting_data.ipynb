{
 "cells": [
  {
   "cell_type": "code",
   "execution_count": 4,
   "metadata": {
    "collapsed": true
   },
   "outputs": [
    {
     "data": {
      "text/plain": "         time  zero_balance_addresses_all_time  unique_addresses_all_time  \\\n0  2009-01-03                                0                          1   \n1  2009-01-04                                0                          1   \n2  2009-01-05                                0                          1   \n3  2009-01-06                                0                          1   \n4  2009-01-07                                0                          1   \n\n   new_addresses  active_addresses  transaction_count  \\\n0              1                 1                  1   \n1              0                 0                  0   \n2              0                 0                  0   \n3              0                 0                  0   \n4              0                 0                  0   \n\n   transaction_count_all_time  large_transaction_count  \\\n0                           1                        0   \n1                           0                        0   \n2                           0                        0   \n3                           0                        0   \n4                           0                        0   \n\n   average_transaction_value  block_height  hashrate  difficulty  block_time  \\\n0                       50.0             0       0.0         1.0         0.0   \n1                        0.0             0       0.0         0.0         0.0   \n2                        0.0             0       0.0         0.0         0.0   \n3                        0.0             0       0.0         0.0         0.0   \n4                        0.0             0       0.0         0.0         0.0   \n\n   block_size  current_supply  \n0         285            50.0  \n1           0            50.0  \n2           0            50.0  \n3           0            50.0  \n4           0            50.0  ",
      "text/html": "<div>\n<style scoped>\n    .dataframe tbody tr th:only-of-type {\n        vertical-align: middle;\n    }\n\n    .dataframe tbody tr th {\n        vertical-align: top;\n    }\n\n    .dataframe thead th {\n        text-align: right;\n    }\n</style>\n<table border=\"1\" class=\"dataframe\">\n  <thead>\n    <tr style=\"text-align: right;\">\n      <th></th>\n      <th>time</th>\n      <th>zero_balance_addresses_all_time</th>\n      <th>unique_addresses_all_time</th>\n      <th>new_addresses</th>\n      <th>active_addresses</th>\n      <th>transaction_count</th>\n      <th>transaction_count_all_time</th>\n      <th>large_transaction_count</th>\n      <th>average_transaction_value</th>\n      <th>block_height</th>\n      <th>hashrate</th>\n      <th>difficulty</th>\n      <th>block_time</th>\n      <th>block_size</th>\n      <th>current_supply</th>\n    </tr>\n  </thead>\n  <tbody>\n    <tr>\n      <th>0</th>\n      <td>2009-01-03</td>\n      <td>0</td>\n      <td>1</td>\n      <td>1</td>\n      <td>1</td>\n      <td>1</td>\n      <td>1</td>\n      <td>0</td>\n      <td>50.0</td>\n      <td>0</td>\n      <td>0.0</td>\n      <td>1.0</td>\n      <td>0.0</td>\n      <td>285</td>\n      <td>50.0</td>\n    </tr>\n    <tr>\n      <th>1</th>\n      <td>2009-01-04</td>\n      <td>0</td>\n      <td>1</td>\n      <td>0</td>\n      <td>0</td>\n      <td>0</td>\n      <td>0</td>\n      <td>0</td>\n      <td>0.0</td>\n      <td>0</td>\n      <td>0.0</td>\n      <td>0.0</td>\n      <td>0.0</td>\n      <td>0</td>\n      <td>50.0</td>\n    </tr>\n    <tr>\n      <th>2</th>\n      <td>2009-01-05</td>\n      <td>0</td>\n      <td>1</td>\n      <td>0</td>\n      <td>0</td>\n      <td>0</td>\n      <td>0</td>\n      <td>0</td>\n      <td>0.0</td>\n      <td>0</td>\n      <td>0.0</td>\n      <td>0.0</td>\n      <td>0.0</td>\n      <td>0</td>\n      <td>50.0</td>\n    </tr>\n    <tr>\n      <th>3</th>\n      <td>2009-01-06</td>\n      <td>0</td>\n      <td>1</td>\n      <td>0</td>\n      <td>0</td>\n      <td>0</td>\n      <td>0</td>\n      <td>0</td>\n      <td>0.0</td>\n      <td>0</td>\n      <td>0.0</td>\n      <td>0.0</td>\n      <td>0.0</td>\n      <td>0</td>\n      <td>50.0</td>\n    </tr>\n    <tr>\n      <th>4</th>\n      <td>2009-01-07</td>\n      <td>0</td>\n      <td>1</td>\n      <td>0</td>\n      <td>0</td>\n      <td>0</td>\n      <td>0</td>\n      <td>0</td>\n      <td>0.0</td>\n      <td>0</td>\n      <td>0.0</td>\n      <td>0.0</td>\n      <td>0.0</td>\n      <td>0</td>\n      <td>50.0</td>\n    </tr>\n  </tbody>\n</table>\n</div>"
     },
     "execution_count": 4,
     "metadata": {},
     "output_type": "execute_result"
    }
   ],
   "source": [
    "import _preprocessing\n",
    "import pandas as pd\n",
    "blockchain = pd.read_csv(r'../cryptoCompareData/btc_blockchain_data.csv')\n",
    "prices = pd.read_csv(r'../cryptoCompareData/btc_prices.csv')\n",
    "social = pd.read_csv(r'../cryptoCompareData/btc_social.csv')\n",
    "blockchain.head()"
   ]
  },
  {
   "cell_type": "code",
   "execution_count": 9,
   "outputs": [],
   "source": [
    "split_at_date = '2021.01.01'\n",
    "\n",
    "for df,name in ((blockchain,'btc_blockchain_data'),(prices,'btc_prices'),(social,'btc_social')):\n",
    "    df['time'] = pd.to_datetime(df['time'])\n",
    "    train = df[df['time'] < split_at_date]\n",
    "    test = df[df['time'] > split_at_date]\n",
    "    train.to_csv(f'../splits/train/{name}.csv')\n",
    "    test.to_csv(f'../splits/test/{name}.csv')"
   ],
   "metadata": {
    "collapsed": false,
    "pycharm": {
     "name": "#%%\n"
    }
   }
  },
  {
   "cell_type": "code",
   "execution_count": null,
   "outputs": [],
   "source": [],
   "metadata": {
    "collapsed": false,
    "pycharm": {
     "name": "#%%\n"
    }
   }
  }
 ],
 "metadata": {
  "kernelspec": {
   "display_name": "Python 3",
   "language": "python",
   "name": "python3"
  },
  "language_info": {
   "codemirror_mode": {
    "name": "ipython",
    "version": 2
   },
   "file_extension": ".py",
   "mimetype": "text/x-python",
   "name": "python",
   "nbconvert_exporter": "python",
   "pygments_lexer": "ipython2",
   "version": "2.7.6"
  }
 },
 "nbformat": 4,
 "nbformat_minor": 0
}