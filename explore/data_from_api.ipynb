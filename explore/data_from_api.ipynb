{
 "cells": [
  {
   "cell_type": "code",
   "execution_count": 36,
   "metadata": {
    "collapsed": true
   },
   "outputs": [],
   "source": [
    "import json\n",
    "from urllib import request\n",
    "\n",
    "import pandas as pd\n",
    "\n",
    "url = 'https://min-api.cryptocompare.com/data/v2/histoday?fsym=ETH&tsym=USD&allData=true'\n",
    "r = request.urlopen(url)\n",
    "data = json.loads(r.read().decode(r.info().get_param('charset') or 'utf-8'))\n",
    "eth_daily = pd.DataFrame(data['Data']['Data'])\n",
    "eth_daily['time'] = pd.to_datetime(eth_daily['time'],unit='s')\n",
    "eth_daily.to_csv('eth_daily_prices.csv')"
   ]
  },
  {
   "cell_type": "code",
   "execution_count": 37,
   "outputs": [],
   "source": [
    "url = 'https://min-api.cryptocompare.com/data/v2/histoday?fsym=BTC&tsym=USD&allData=true'\n",
    "r = request.urlopen(url)\n",
    "data = json.loads(r.read().decode(r.info().get_param('charset') or 'utf-8'))\n",
    "btc_daily = pd.DataFrame(data['Data']['Data'])\n",
    "btc_daily['time'] = pd.to_datetime(btc_daily['time'],unit='s')\n",
    "btc_daily.to_csv('btc_daily_prices.csv')"
   ],
   "metadata": {
    "collapsed": false,
    "pycharm": {
     "name": "#%%\n"
    }
   }
  },
  {
   "cell_type": "code",
   "execution_count": 38,
   "outputs": [],
   "source": [
    "url = 'https://min-api.cryptocompare.com/data/v2/histoday?fsym=BTC&tsym=USD&limit=2000'\n",
    "r = request.urlopen(url)\n",
    "data = json.loads(r.read().decode(r.info().get_param('charset') or 'utf-8'))\n",
    "btc_daily_volume_1 = pd.DataFrame(data['Data']['Data'])\n",
    "\n",
    "url = 'https://min-api.cryptocompare.com/data/v2/histoday?fsym=BTC&tsym=USD&limit=2000&toTs=1485734400'\n",
    "r = request.urlopen(url)\n",
    "data = json.loads(r.read().decode(r.info().get_param('charset') or 'utf-8'))\n",
    "btc_daily_volume_2 = pd.DataFrame(data['Data']['Data'])\n",
    "\n",
    "url = 'https://min-api.cryptocompare.com/data/v2/histoday?fsym=BTC&tsym=USD&limit=2000&toTs=1312934400'\n",
    "r = request.urlopen(url)\n",
    "data = json.loads(r.read().decode(r.info().get_param('charset') or 'utf-8'))\n",
    "btc_daily_volume_3 = pd.DataFrame(data['Data']['Data'])\n",
    "\n",
    "btc_volume = pd.concat([btc_daily_volume_3, btc_daily_volume_2, btc_daily_volume_1]).drop_duplicates()\n",
    "btc_volume = btc_volume[btc_volume.time >= 1279324800]\n",
    "btc_volume['time'] = pd.to_datetime(btc_volume['time'],unit='s')\n",
    "btc_volume.to_csv('btc_volume.csv')"
   ],
   "metadata": {
    "collapsed": false,
    "pycharm": {
     "name": "#%%\n"
    }
   }
  },
  {
   "cell_type": "code",
   "execution_count": 39,
   "outputs": [],
   "source": [
    "url = 'https://min-api.cryptocompare.com/data/v2/histoday?fsym=ETH&tsym=USD&limit=2000'\n",
    "r = request.urlopen(url)\n",
    "data = json.loads(r.read().decode(r.info().get_param('charset') or 'utf-8'))\n",
    "eth_daily_volume_1 = pd.DataFrame(data['Data']['Data'])\n",
    "\n",
    "url = 'https://min-api.cryptocompare.com/data/v2/histoday?fsym=ETH&tsym=USD&limit=2000&toTs=1485734400'\n",
    "r = request.urlopen(url)\n",
    "data = json.loads(r.read().decode(r.info().get_param('charset') or 'utf-8'))\n",
    "eth_daily_volume_2 = pd.DataFrame(data['Data']['Data'])\n",
    "\n",
    "url = 'https://min-api.cryptocompare.com/data/v2/histoday?fsym=ETH&tsym=USD&limit=2000&toTs=1312934400'\n",
    "r = request.urlopen(url)\n",
    "data = json.loads(r.read().decode(r.info().get_param('charset') or 'utf-8'))\n",
    "eth_daily_volume_3 = pd.DataFrame(data['Data']['Data'])\n",
    "\n",
    "eth_volume = pd.concat([eth_daily_volume_1, eth_daily_volume_2, eth_daily_volume_3]).drop_duplicates()\n",
    "eth_volume = eth_volume[eth_volume.time >= 1279324800]\n",
    "eth_volume['time'] = pd.to_datetime(eth_volume['time'],unit='s')\n",
    "eth_volume.to_csv('eth_volume.csv')"
   ],
   "metadata": {
    "collapsed": false,
    "pycharm": {
     "name": "#%%\n"
    }
   }
  },
  {
   "cell_type": "code",
   "execution_count": 89,
   "outputs": [],
   "source": [
    "url = 'https://min-api.cryptocompare.com/data/blockchain/histo/day?fsym=BTC&api_key=8158cf317e06b8a41ed770cf1960909c0c8966934927141d65e9a41385d0186d&limit=2000'\n",
    "r = request.urlopen(url)\n",
    "data = json.loads(r.read().decode(r.info().get_param('charset') or 'utf-8'))\n",
    "btc_block_chain_data_1 = pd.DataFrame(data['Data']['Data'])\n",
    "\n",
    "url = 'https://min-api.cryptocompare.com/data/blockchain/histo/day?fsym=BTC&api_key=8158cf317e06b8a41ed770cf1960909c0c8966934927141d65e9a41385d0186d&limit=2000&toTs=1485734400'\n",
    "r = request.urlopen(url)\n",
    "data = json.loads(r.read().decode(r.info().get_param('charset') or 'utf-8'))\n",
    "btc_block_chain_data_2 = pd.DataFrame(data['Data']['Data'])\n",
    "\n",
    "url = 'https://min-api.cryptocompare.com/data/blockchain/histo/day?fsym=BTC&api_key=8158cf317e06b8a41ed770cf1960909c0c8966934927141d65e9a41385d0186d&limit=2000&toTs=1312934400'\n",
    "r = request.urlopen(url)\n",
    "data = json.loads(r.read().decode(r.info().get_param('charset') or 'utf-8'))\n",
    "btc_block_chain_data_3 = pd.DataFrame(data['Data']['Data'])\n",
    "\n",
    "\n",
    "btc_block_chain_date = pd.concat([btc_block_chain_data_3,btc_block_chain_data_2,btc_block_chain_data_1]).drop_duplicates()\n",
    "btc_block_chain_date['time'] = pd.to_datetime(btc_block_chain_date['time'],unit='s')\n",
    "btc_block_chain_date.to_csv('btc_blockchain_data')"
   ],
   "metadata": {
    "collapsed": false,
    "pycharm": {
     "name": "#%%\n"
    }
   }
  },
  {
   "cell_type": "code",
   "execution_count": 58,
   "outputs": [
    {
     "data": {
      "text/plain": "        id symbol       time  zero_balance_addresses_all_time  \\\n0     7605    ETH 2015-08-07                               45   \n1     7605    ETH 2015-08-08                              110   \n2     7605    ETH 2015-08-09                              144   \n3     7605    ETH 2015-08-10                              462   \n4     7605    ETH 2015-08-11                             1774   \n...    ...    ...        ...                              ...   \n1995  7605    ETH 2022-07-18                        144632746   \n1996  7605    ETH 2022-07-19                        144665059   \n1997  7605    ETH 2022-07-20                        144694999   \n1998  7605    ETH 2022-07-21                        144716672   \n1999  7605    ETH 2022-07-22                        144774179   \n\n      unique_addresses_all_time  new_addresses  active_addresses  \\\n0                         10306          10306              1389   \n1                         10719            413              1207   \n2                         10993            274              1112   \n3                         11668            675              1429   \n4                         13565           1897              2696   \n...                         ...            ...               ...   \n1995                  223527811          73366            539990   \n1996                  223602892          75081            523729   \n1997                  223675623          72731            530194   \n1998                  223746990          71367            546982   \n1999                  223827612          80622            578800   \n\n      transaction_count  transaction_count_all_time  large_transaction_count  \\\n0                  2035                        2035                        3   \n1                  2344                        4379                        6   \n2                  1312                        5691                        1   \n3                  2027                        7718                        4   \n4                  4955                       12673                        2   \n...                 ...                         ...                      ...   \n1995            1161613                  1593857790                     5507   \n1996            1129495                  1594987285                     4833   \n1997            1151667                  1596138952                     4319   \n1998            1165212                  1597304164                     3578   \n1999            1163784                  1598467948                     3558   \n\n      average_transaction_value  block_height    hashrate    difficulty  \\\n0                    987.052939         50613    0.088342  1.470839e+12   \n1                   5795.271048         55869    0.096483  1.586124e+12   \n2                    888.990757         60992    0.101360  1.709480e+12   \n3                    825.080113         66247    0.111855  1.837696e+12   \n4                    300.157758         71527    0.124450  2.036391e+12   \n...                         ...           ...         ...           ...   \n1995                   4.087650      15169694  875.600341  1.171555e+16   \n1996                   4.638402      15176170  892.879447  1.191205e+16   \n1997                   2.766560      15182613  881.224692  1.181651e+16   \n1998                   4.892101      15189087  875.032905  1.167837e+16   \n1999                   2.027339      15195555  876.058934  1.170332e+16   \n\n      block_time  block_size  current_supply  \n0      16.649383         632    7.227992e+07  \n1      16.439391         667    7.230786e+07  \n2      16.865482         618    7.233504e+07  \n3      16.429197         631    7.236286e+07  \n4      16.363137         692    7.239089e+07  \n...          ...         ...             ...  \n1995   13.380015       88572    1.216036e+08  \n1996   13.341158       81056    1.216171e+08  \n1997   13.409190       84300    1.216307e+08  \n1998   13.346207       84739    1.216442e+08  \n1999   13.359054       80839    1.216578e+08  \n\n[2542 rows x 17 columns]",
      "text/html": "<div>\n<style scoped>\n    .dataframe tbody tr th:only-of-type {\n        vertical-align: middle;\n    }\n\n    .dataframe tbody tr th {\n        vertical-align: top;\n    }\n\n    .dataframe thead th {\n        text-align: right;\n    }\n</style>\n<table border=\"1\" class=\"dataframe\">\n  <thead>\n    <tr style=\"text-align: right;\">\n      <th></th>\n      <th>id</th>\n      <th>symbol</th>\n      <th>time</th>\n      <th>zero_balance_addresses_all_time</th>\n      <th>unique_addresses_all_time</th>\n      <th>new_addresses</th>\n      <th>active_addresses</th>\n      <th>transaction_count</th>\n      <th>transaction_count_all_time</th>\n      <th>large_transaction_count</th>\n      <th>average_transaction_value</th>\n      <th>block_height</th>\n      <th>hashrate</th>\n      <th>difficulty</th>\n      <th>block_time</th>\n      <th>block_size</th>\n      <th>current_supply</th>\n    </tr>\n  </thead>\n  <tbody>\n    <tr>\n      <th>0</th>\n      <td>7605</td>\n      <td>ETH</td>\n      <td>2015-08-07</td>\n      <td>45</td>\n      <td>10306</td>\n      <td>10306</td>\n      <td>1389</td>\n      <td>2035</td>\n      <td>2035</td>\n      <td>3</td>\n      <td>987.052939</td>\n      <td>50613</td>\n      <td>0.088342</td>\n      <td>1.470839e+12</td>\n      <td>16.649383</td>\n      <td>632</td>\n      <td>7.227992e+07</td>\n    </tr>\n    <tr>\n      <th>1</th>\n      <td>7605</td>\n      <td>ETH</td>\n      <td>2015-08-08</td>\n      <td>110</td>\n      <td>10719</td>\n      <td>413</td>\n      <td>1207</td>\n      <td>2344</td>\n      <td>4379</td>\n      <td>6</td>\n      <td>5795.271048</td>\n      <td>55869</td>\n      <td>0.096483</td>\n      <td>1.586124e+12</td>\n      <td>16.439391</td>\n      <td>667</td>\n      <td>7.230786e+07</td>\n    </tr>\n    <tr>\n      <th>2</th>\n      <td>7605</td>\n      <td>ETH</td>\n      <td>2015-08-09</td>\n      <td>144</td>\n      <td>10993</td>\n      <td>274</td>\n      <td>1112</td>\n      <td>1312</td>\n      <td>5691</td>\n      <td>1</td>\n      <td>888.990757</td>\n      <td>60992</td>\n      <td>0.101360</td>\n      <td>1.709480e+12</td>\n      <td>16.865482</td>\n      <td>618</td>\n      <td>7.233504e+07</td>\n    </tr>\n    <tr>\n      <th>3</th>\n      <td>7605</td>\n      <td>ETH</td>\n      <td>2015-08-10</td>\n      <td>462</td>\n      <td>11668</td>\n      <td>675</td>\n      <td>1429</td>\n      <td>2027</td>\n      <td>7718</td>\n      <td>4</td>\n      <td>825.080113</td>\n      <td>66247</td>\n      <td>0.111855</td>\n      <td>1.837696e+12</td>\n      <td>16.429197</td>\n      <td>631</td>\n      <td>7.236286e+07</td>\n    </tr>\n    <tr>\n      <th>4</th>\n      <td>7605</td>\n      <td>ETH</td>\n      <td>2015-08-11</td>\n      <td>1774</td>\n      <td>13565</td>\n      <td>1897</td>\n      <td>2696</td>\n      <td>4955</td>\n      <td>12673</td>\n      <td>2</td>\n      <td>300.157758</td>\n      <td>71527</td>\n      <td>0.124450</td>\n      <td>2.036391e+12</td>\n      <td>16.363137</td>\n      <td>692</td>\n      <td>7.239089e+07</td>\n    </tr>\n    <tr>\n      <th>...</th>\n      <td>...</td>\n      <td>...</td>\n      <td>...</td>\n      <td>...</td>\n      <td>...</td>\n      <td>...</td>\n      <td>...</td>\n      <td>...</td>\n      <td>...</td>\n      <td>...</td>\n      <td>...</td>\n      <td>...</td>\n      <td>...</td>\n      <td>...</td>\n      <td>...</td>\n      <td>...</td>\n      <td>...</td>\n    </tr>\n    <tr>\n      <th>1995</th>\n      <td>7605</td>\n      <td>ETH</td>\n      <td>2022-07-18</td>\n      <td>144632746</td>\n      <td>223527811</td>\n      <td>73366</td>\n      <td>539990</td>\n      <td>1161613</td>\n      <td>1593857790</td>\n      <td>5507</td>\n      <td>4.087650</td>\n      <td>15169694</td>\n      <td>875.600341</td>\n      <td>1.171555e+16</td>\n      <td>13.380015</td>\n      <td>88572</td>\n      <td>1.216036e+08</td>\n    </tr>\n    <tr>\n      <th>1996</th>\n      <td>7605</td>\n      <td>ETH</td>\n      <td>2022-07-19</td>\n      <td>144665059</td>\n      <td>223602892</td>\n      <td>75081</td>\n      <td>523729</td>\n      <td>1129495</td>\n      <td>1594987285</td>\n      <td>4833</td>\n      <td>4.638402</td>\n      <td>15176170</td>\n      <td>892.879447</td>\n      <td>1.191205e+16</td>\n      <td>13.341158</td>\n      <td>81056</td>\n      <td>1.216171e+08</td>\n    </tr>\n    <tr>\n      <th>1997</th>\n      <td>7605</td>\n      <td>ETH</td>\n      <td>2022-07-20</td>\n      <td>144694999</td>\n      <td>223675623</td>\n      <td>72731</td>\n      <td>530194</td>\n      <td>1151667</td>\n      <td>1596138952</td>\n      <td>4319</td>\n      <td>2.766560</td>\n      <td>15182613</td>\n      <td>881.224692</td>\n      <td>1.181651e+16</td>\n      <td>13.409190</td>\n      <td>84300</td>\n      <td>1.216307e+08</td>\n    </tr>\n    <tr>\n      <th>1998</th>\n      <td>7605</td>\n      <td>ETH</td>\n      <td>2022-07-21</td>\n      <td>144716672</td>\n      <td>223746990</td>\n      <td>71367</td>\n      <td>546982</td>\n      <td>1165212</td>\n      <td>1597304164</td>\n      <td>3578</td>\n      <td>4.892101</td>\n      <td>15189087</td>\n      <td>875.032905</td>\n      <td>1.167837e+16</td>\n      <td>13.346207</td>\n      <td>84739</td>\n      <td>1.216442e+08</td>\n    </tr>\n    <tr>\n      <th>1999</th>\n      <td>7605</td>\n      <td>ETH</td>\n      <td>2022-07-22</td>\n      <td>144774179</td>\n      <td>223827612</td>\n      <td>80622</td>\n      <td>578800</td>\n      <td>1163784</td>\n      <td>1598467948</td>\n      <td>3558</td>\n      <td>2.027339</td>\n      <td>15195555</td>\n      <td>876.058934</td>\n      <td>1.170332e+16</td>\n      <td>13.359054</td>\n      <td>80839</td>\n      <td>1.216578e+08</td>\n    </tr>\n  </tbody>\n</table>\n<p>2542 rows × 17 columns</p>\n</div>"
     },
     "execution_count": 58,
     "metadata": {},
     "output_type": "execute_result"
    }
   ],
   "source": [
    "url = 'https://min-api.cryptocompare.com/data/blockchain/histo/day?fsym=ETH&api_key=8158cf317e06b8a41ed770cf1960909c0c8966934927141d65e9a41385d0186d&limit=2000'\n",
    "r = request.urlopen(url)\n",
    "data = json.loads(r.read().decode(r.info().get_param('charset') or 'utf-8'))\n",
    "eth_block_chain_data_1 = pd.DataFrame(data['Data']['Data'])\n",
    "\n",
    "url = 'https://min-api.cryptocompare.com/data/blockchain/histo/day?fsym=ETH&api_key=8158cf317e06b8a41ed770cf1960909c0c8966934927141d65e9a41385d0186d&limit=2000&toTs=1485734400'\n",
    "r = request.urlopen(url)\n",
    "data = json.loads(r.read().decode(r.info().get_param('charset') or 'utf-8'))\n",
    "eth_block_chain_data_2 = pd.DataFrame(data['Data']['Data'])\n",
    "\n",
    "eth_block_chain_data = pd.concat([eth_block_chain_data_2,eth_block_chain_data_1]).drop_duplicates()\n",
    "eth_block_chain_data['time'] = pd.to_datetime(eth_block_chain_data['time'],unit='s')\n",
    "eth_block_chain_data.to_csv('eth_blockchain_data')\n",
    "eth_block_chain_data"
   ],
   "metadata": {
    "collapsed": false,
    "pycharm": {
     "name": "#%%\n"
    }
   }
  },
  {
   "cell_type": "code",
   "execution_count": 83,
   "outputs": [],
   "source": [
    "url = 'https://min-api.cryptocompare.com/data/all/coinlist'\n",
    "r = request.urlopen(url)\n",
    "data = json.loads(r.read().decode(r.info().get_param('charset') or 'utf-8'))"
   ],
   "metadata": {
    "collapsed": false,
    "pycharm": {
     "name": "#%%\n"
    }
   }
  },
  {
   "cell_type": "code",
   "execution_count": 84,
   "outputs": [
    {
     "data": {
      "text/plain": "{'Id': '7605',\n 'Url': '/coins/eth/overview',\n 'ImageUrl': '/media/37746238/eth.png',\n 'ContentCreatedOn': 1438259812,\n 'Name': 'ETH',\n 'Symbol': 'ETH',\n 'CoinName': 'Ethereum',\n 'FullName': 'Ethereum (ETH)',\n 'Description': 'Ethereum is a decentralized platform that runs smart contracts (applications that run exactly as programmed without any possibility of downtime, censorship, fraud or third party interference). In the Ethereum protocol and blockchain, there is a price for each operation. In order to have anything transferred or executed by the network, you have to consume or burn Gas. Ethereum’s native cryptocurrency is Ether (ETH) and it is used to pay for computation time and transaction fees.The introductory whitepaper was originally published in 2013 by Vitalik Buterin, the founder of Ethereum, the project was crowdfunded during August 2014 by fans all around the world and launched in 2015. Ethereum is developed and maintained by ETHDEV with contributions from minds across the globe. There is an Ecosystem Support Program which is a branch of the Ethereum Foundation focused on supporting projects and entities within the greater Ethereum community to promote the success and growth of the ecosystem. Multiple startups work with the Ethereum blockchain covering areas in: DeFi, NFTs, Ethereum Name Service, Wallets, Scaling, etc.The launch of Ethereum is a process divided into 4 main phases: Frontier, Homestead, Metropolis and Serenity.Ethereum 2.0, also known as Serenity, is the final phase of Ethereum, it aims to solve the decentralized scaling challenge. A naive way to solve Ethereum&#39;s problems would be to make it more centralized. But decentralization is too important, as it gives Ethereum censorship resistance, openness, data privacy and near-unbreakable security.The Eth2 upgrades will make Ethereum scalable, secure, and decentralized. Sharding will make Ethereum more scalable by increasing transactions per second while decreasing the power needed to run a node and validate the chain. The beacon chain will make Ethereum secure by coordinating validators across shards. And staking will lower the barrier to participation, creating a larger – more decentralized – network.The beacon chain will also introduce proof-of-stake to Ethereum. Ethereum is moving to the proof-of-stake (PoS) consensus mechanism from proof-of-work (PoW). This was always the plan as it&#39;s a key part of the community&#39;s strategy to scale Ethereum via the Eth2 upgrades. However, getting PoS right is a big technical challenge and not as straightforward as using PoW to reach consensus across the networkKeep up with Ethereum upgradesFor ETH holders and Dapp users, this has no impact whatsoever, however, for users wishing to get involved, there are ways to participate in Ethereum and future Eth2-related efforts.\\xa0Get involved in Eth 2.0Blockchain data provided by: Etherchain (Main Source), Blockchair (Backup), and Etherscan (Total Supply only).',\n 'AssetTokenStatus': 'Finished',\n 'Algorithm': 'Ethash',\n 'ProofType': 'PoW',\n 'SortOrder': '2',\n 'Sponsored': False,\n 'Taxonomy': {'Access': 'Permissionless',\n  'FCA': 'Exchange,Utility',\n  'FINMA': 'Payment,Utility',\n  'Industry': 'Blockchain-Specific Application',\n  'CollateralizedAsset': 'No',\n  'CollateralizedAssetType': '',\n  'CollateralType': '',\n  'CollateralInfo': ''},\n 'Rating': {'Weiss': {'Rating': 'A-',\n   'TechnologyAdoptionRating': 'A',\n   'MarketPerformanceRating': 'C'}},\n 'IsTrading': True,\n 'TotalCoinsMined': 121668959.8115,\n 'CirculatingSupply': 121668959.8115,\n 'BlockNumber': 15200890,\n 'NetHashesPerSecond': 955224836834966.1,\n 'BlockReward': 2.0559534028485773,\n 'BlockTime': 13.377913175932978,\n 'AssetLaunchDate': '2015-07-30',\n 'AssetWhitepaperUrl': 'https://www.cryptocompare.com/media/37745821/ethereum.pdf',\n 'AssetWebsiteUrl': 'https://www.ethereum.org/',\n 'MaxSupply': -1,\n 'MktCapPenalty': 0,\n 'IsUsedInDefi': 0,\n 'IsUsedInNft': 0,\n 'PlatformType': 'blockchain',\n 'DecimalPoints': 18,\n 'AlgorithmType': 'ethash',\n 'Difficulty': 12110260587313436}"
     },
     "execution_count": 84,
     "metadata": {},
     "output_type": "execute_result"
    }
   ],
   "source": [
    "data['Data']['ETH']"
   ],
   "metadata": {
    "collapsed": false,
    "pycharm": {
     "name": "#%%\n"
    }
   }
  },
  {
   "cell_type": "code",
   "execution_count": 85,
   "outputs": [],
   "source": [
    "url = 'https://min-api.cryptocompare.com/data/social/coin/histo/day?coinId=7605&limit=2000&api_key=8158cf317e06b8a41ed770cf1960909c0c8966934927141d65e9a41385d0186d'\n",
    "r = request.urlopen(url)\n",
    "data = json.loads(r.read().decode(r.info().get_param('charset') or 'utf-8'))\n",
    "eth_social = pd.DataFrame(data['Data'])"
   ],
   "metadata": {
    "collapsed": false,
    "pycharm": {
     "name": "#%%\n"
    }
   }
  },
  {
   "cell_type": "code",
   "execution_count": 87,
   "outputs": [],
   "source": [
    "eth_social.to_csv('eth_social')"
   ],
   "metadata": {
    "collapsed": false,
    "pycharm": {
     "name": "#%%\n"
    }
   }
  }
 ],
 "metadata": {
  "kernelspec": {
   "display_name": "Python 3",
   "language": "python",
   "name": "python3"
  },
  "language_info": {
   "codemirror_mode": {
    "name": "ipython",
    "version": 2
   },
   "file_extension": ".py",
   "mimetype": "text/x-python",
   "name": "python",
   "nbconvert_exporter": "python",
   "pygments_lexer": "ipython2",
   "version": "2.7.6"
  }
 },
 "nbformat": 4,
 "nbformat_minor": 0
}